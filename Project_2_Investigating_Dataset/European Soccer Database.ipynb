{
 "cells": [
  {
   "cell_type": "markdown",
   "metadata": {},
   "source": [
    "# Project: Soccer DataBase\n",
    "\n",
    "## Table of Contents\n",
    "<ul>\n",
    "<li><a href=\"#intro\">Introduction</a></li>\n",
    "<li><a href=\"#wrangling\">Data Wrangling</a></li>\n",
    "<li><a href=\"#eda\">Exploratory Data Analysis</a></li>\n",
    "<li><a href=\"#conclusions\">Conclusions</a></li>\n",
    "</ul>"
   ]
  },
  {
   "cell_type": "markdown",
   "metadata": {},
   "source": [
    "<a id='intro'></a>\n",
    "## Introduction: Data Description\n",
    "\n",
    ">The ultimate Soccer database for data analysis and machine learning\n",
    "What you get:</a>\n",
    "\n",
    ">+25,000 matches<br />\n",
    ">+10,000 players<br />\n",
    ">11 European Countries with their lead championship<br />\n",
    ">Seasons 2008 to 2016<br />\n",
    ">Players and Teams' attributes* sourced from EA Sports' FIFA video game series, including the weekly updates<br />\n",
    ">Team line up with squad formation (X, Y coordinates)<br />\n",
    ">Betting odds from up to 10 providers<br />\n",
    ">Detailed match events (goal types, possession, corner, cross, fouls, cards etc...) for +10,000 matches<br />\n",
    ">*16th Oct 2016: New table containing teams' attributes from FIFA !<br />\n",
    "\n",
    "**Referance: https://www.kaggle.com/hugomathien/soccer**"
   ]
  },
  {
   "cell_type": "code",
   "execution_count": 139,
   "metadata": {},
   "outputs": [],
   "source": [
    "import pandas as pd\n",
    "import numpy as np\n",
    "import matplotlib.pyplot as plt\n",
    "import seaborn as sns\n",
    "from sqlalchemy import create_engine\n",
    "from sklearn.utils import resample\n",
    "import re\n",
    "%matplotlib inline"
   ]
  },
  {
   "cell_type": "markdown",
   "metadata": {},
   "source": [
    "<a id='wrangling'></a>\n",
    "## Data Wrangling\n",
    "\n",
    "> **Tip**: In this section of the report, you will load in the data, check for cleanliness, and then trim and clean your dataset for analysis. Make sure that you document your steps carefully and justify your cleaning decisions.\n",
    "\n",
    "### General Properties"
   ]
  },
  {
   "cell_type": "code",
   "execution_count": 21,
   "metadata": {},
   "outputs": [
    {
     "name": "stdout",
     "output_type": "stream",
     "text": [
      "['Country', 'League', 'Match', 'Player', 'Player_Attributes', 'Team', 'Team_Attributes', 'sqlite_sequence']\n"
     ]
    }
   ],
   "source": [
    "#Use sqlalchemy to read data from sql database file\n",
    "database_link = 'C:/Users/Amer/Desktop/Data Analysis Udacity Projects/Project 2/database.sqlite'\n",
    "database = create_engine('sqlite:///' + database_link)\n",
    "print(database.table_names())"
   ]
  },
  {
   "cell_type": "code",
   "execution_count": 18,
   "metadata": {},
   "outputs": [],
   "source": [
    "#Create a function to help finding the attributes of any input function\n",
    "def fsearch(keyword=None, function=None):\n",
    "    '''\n",
    "    This function searches for attributes in a function.\n",
    "    fsearch(keyword = str, function = function)\n",
    "    returns list of possible attributes\n",
    "    '''\n",
    "    return print(str([sub for sub in dir(function) if re.search(str.lower(keyword), str.lower(sub))]))"
   ]
  },
  {
   "cell_type": "code",
   "execution_count": 48,
   "metadata": {},
   "outputs": [],
   "source": [
    "df = pd.read_sql_query('SELECT * FROM Match', database)"
   ]
  },
  {
   "cell_type": "code",
   "execution_count": 85,
   "metadata": {},
   "outputs": [],
   "source": [
    "#Create a mask for the winning stats\n",
    "home_win = df['home_team_goal'] > df['away_team_goal']\n",
    "away_win = df['home_team_goal'] < df['away_team_goal']\n",
    "draw = df['home_team_goal'] == df['away_team_goal']\n",
    "\n",
    "#create a list of conditions for the winning team along with the mapping values\n",
    "conditons_target = [home_win, away_win, draw]\n",
    "choice_target = ['home_win', 'away_win', 'draw']\n",
    "\n",
    "#Create a target column specifiying the winning stats( home_win , away_win, draw)\n",
    "df['target'] = np.select(conditons_target, choice_target, default=np.nan)"
   ]
  },
  {
   "cell_type": "code",
   "execution_count": 138,
   "metadata": {},
   "outputs": [
    {
     "name": "stdout",
     "output_type": "stream",
     "text": [
      "home_win    45.87\n",
      "away_win    28.74\n",
      "draw        25.39\n",
      "Name: target, dtype: float64\n",
      "home_win    45.86\n",
      "away_win    28.73\n",
      "draw        25.41\n",
      "Name: target, dtype: float64\n"
     ]
    }
   ],
   "source": [
    "#Create a 10% stratify subsample from the original data to decrease future code runtime\n",
    "df_resampled = resample(df, replace=False, n_samples=int(len(df)*0.1), random_state=42, stratify=df.target)\n",
    "\n",
    "#The subsample have the same Classes Ratio of the target column\n",
    "print(round(df.target.value_counts(normalize=True)*100,2))\n",
    "print(round(df_resampled.target.value_counts(normalize=True)*100,2))"
   ]
  },
  {
   "cell_type": "markdown",
   "metadata": {},
   "source": [
    "> **Tip**: You should _not_ perform too many operations in each cell. Create cells freely to explore your data. One option that you can take with this project is to do a lot of explorations in an initial notebook. These don't have to be organized, but make sure you use enough comments to understand the purpose of each code cell. Then, after you're done with your analysis, create a duplicate notebook where you will trim the excess and organize your steps so that you have a flowing, cohesive report.\n",
    "\n",
    "> **Tip**: Make sure that you keep your reader informed on the steps that you are taking in your investigation. Follow every code cell, or every set of related code cells, with a markdown cell to describe to the reader what was found in the preceding cell(s). Try to make it so that the reader can then understand what they will be seeing in the following cell(s).\n",
    "\n",
    "### Data Cleaning (Replace this with more specific notes!)"
   ]
  },
  {
   "cell_type": "code",
   "execution_count": 95,
   "metadata": {},
   "outputs": [],
   "source": [
    "# After discussing the structure of the data and any problems that need to be\n",
    "#   cleaned, perform those cleaning steps in the second part of this section.\n"
   ]
  },
  {
   "cell_type": "markdown",
   "metadata": {},
   "source": [
    "<a id='eda'></a>\n",
    "## Exploratory Data Analysis\n",
    "\n",
    "> **Tip**: Now that you've trimmed and cleaned your data, you're ready to move on to exploration. Compute statistics and create visualizations with the goal of addressing the research questions that you posed in the Introduction section. It is recommended that you be systematic with your approach. Look at one variable at a time, and then follow it up by looking at relationships between variables.\n",
    "\n",
    "### Research Question 1 (Replace this header name!)"
   ]
  },
  {
   "cell_type": "code",
   "execution_count": null,
   "metadata": {
    "collapsed": true
   },
   "outputs": [],
   "source": [
    "# Use this, and more code cells, to explore your data. Don't forget to add\n",
    "#   Markdown cells to document your observations and findings.\n"
   ]
  },
  {
   "cell_type": "markdown",
   "metadata": {},
   "source": [
    "### Research Question 2  (Replace this header name!)"
   ]
  },
  {
   "cell_type": "code",
   "execution_count": null,
   "metadata": {
    "collapsed": true
   },
   "outputs": [],
   "source": [
    "# Continue to explore the data to address your additional research\n",
    "#   questions. Add more headers as needed if you have more questions to\n",
    "#   investigate.\n"
   ]
  },
  {
   "cell_type": "markdown",
   "metadata": {},
   "source": [
    "<a id='conclusions'></a>\n",
    "## Conclusions\n",
    "\n",
    "> **Tip**: Finally, summarize your findings and the results that have been performed. Make sure that you are clear with regards to the limitations of your exploration. If you haven't done any statistical tests, do not imply any statistical conclusions. And make sure you avoid implying causation from correlation!\n",
    "\n",
    "> **Tip**: Once you are satisfied with your work, you should save a copy of the report in HTML or PDF form via the **File** > **Download as** submenu. Before exporting your report, check over it to make sure that the flow of the report is complete. You should probably remove all of the \"Tip\" quotes like this one so that the presentation is as tidy as possible. Congratulations!"
   ]
  },
  {
   "cell_type": "code",
   "execution_count": null,
   "metadata": {
    "collapsed": true
   },
   "outputs": [],
   "source": []
  }
 ],
 "metadata": {
  "kernelspec": {
   "display_name": "Python 3",
   "language": "python",
   "name": "python3"
  },
  "language_info": {
   "codemirror_mode": {
    "name": "ipython",
    "version": 3
   },
   "file_extension": ".py",
   "mimetype": "text/x-python",
   "name": "python",
   "nbconvert_exporter": "python",
   "pygments_lexer": "ipython3",
   "version": "3.6.8"
  }
 },
 "nbformat": 4,
 "nbformat_minor": 1
}
